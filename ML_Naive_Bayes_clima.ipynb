{
  "nbformat": 4,
  "nbformat_minor": 0,
  "metadata": {
    "colab": {
      "name": "ML-Naive Bayes-clima.ipynb",
      "provenance": [],
      "collapsed_sections": [],
      "include_colab_link": true
    },
    "kernelspec": {
      "name": "python3",
      "display_name": "Python 3"
    }
  },
  "cells": [
    {
      "cell_type": "markdown",
      "metadata": {
        "id": "view-in-github",
        "colab_type": "text"
      },
      "source": [
        "<a href=\"https://colab.research.google.com/github/DanielaCaroline18/CompEvolucionaria--JobShopSchedulingProblem-/blob/main/ML_Naive_Bayes_clima.ipynb\" target=\"_parent\"><img src=\"https://colab.research.google.com/assets/colab-badge.svg\" alt=\"Open In Colab\"/></a>"
      ]
    },
    {
      "cell_type": "markdown",
      "metadata": {
        "id": "2r8uNeTlxVSN"
      },
      "source": [
        "# Naïve Bayes\n",
        "\n",
        "\n",
        "Ilustra o funcionamento do algoritmo de Naïve Bayes com atributos categóricos.\n",
        "-------------------------------------------------------------------------------\n",
        "\n",
        "### Base de dados: WEATHER.NOMINAL, Weka\n",
        "\n",
        "http://storm.cis.fordham.edu/~gweiss/data-mining/datasets.html\n",
        "\n",
        "DESCRIÇÃO DOS ATRIBUTOS:\n",
        "\n",
        "1. Aparência {Ensolarado, Nublado, Chuvoso}\n",
        "2. Temperatura {Quente, Moderado, Frio}\n",
        "3. Umidade {Alta, Normal}\n",
        "4. Vento {Fraco, Forte}\n",
        "5. Jogar {Sim, Não}\n"
      ]
    },
    {
      "cell_type": "code",
      "metadata": {
        "id": "Jdme4B9eNngv",
        "outputId": "1fbfb1e6-82e9-4d47-fdc5-1b9c0ea8656d",
        "colab": {
          "resources": {
            "http://localhost:8080/nbextensions/google.colab/files.js": {
              "data": "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",
              "ok": true,
              "headers": [
                [
                  "content-type",
                  "application/javascript"
                ]
              ],
              "status": 200,
              "status_text": ""
            }
          },
          "base_uri": "https://localhost:8080/",
          "height": 74
        }
      },
      "source": [
        "import pandas as pd\n",
        "from sklearn.model_selection import train_test_split\n",
        "from sklearn.metrics import confusion_matrix, classification_report, accuracy_score\n",
        "from sklearn.feature_extraction import DictVectorizer\n",
        "from sklearn.preprocessing import LabelEncoder\n",
        "from google.colab import files\n",
        "\n",
        "uploaded = files.upload()"
      ],
      "execution_count": null,
      "outputs": [
        {
          "output_type": "display_data",
          "data": {
            "text/html": [
              "\n",
              "     <input type=\"file\" id=\"files-fbbba340-52a9-4b65-a09d-8f42ea151408\" name=\"files[]\" multiple disabled />\n",
              "     <output id=\"result-fbbba340-52a9-4b65-a09d-8f42ea151408\">\n",
              "      Upload widget is only available when the cell has been executed in the\n",
              "      current browser session. Please rerun this cell to enable.\n",
              "      </output>\n",
              "      <script src=\"/nbextensions/google.colab/files.js\"></script> "
            ],
            "text/plain": [
              "<IPython.core.display.HTML object>"
            ]
          },
          "metadata": {
            "tags": []
          }
        },
        {
          "output_type": "stream",
          "text": [
            "Saving clima.xlsx to clima.xlsx\n"
          ],
          "name": "stdout"
        }
      ]
    },
    {
      "cell_type": "markdown",
      "metadata": {
        "id": "94hQ54QrKG6s"
      },
      "source": [
        "### Transformação de dados\n",
        "\n",
        "Inicialmente os atributos são convertidos para o formato de dicionário.\n",
        "Em seguida os atributos são transformados em binário, para cada par (key, value) do dicionário.\n",
        "\n",
        "<code>DictVectorizer(dtype=class ‘numpy.float64’, separator=’=’, sparse=True, sort=True)</code>\n",
        "\n",
        "A classe é convertida para labels únicos sequenciais.\n",
        "\n",
        "<code>\n",
        " le = preprocessing.LabelEncoder()\n",
        "  \n",
        " le.fit(dados)\n",
        "</code>\n"
      ]
    },
    {
      "cell_type": "code",
      "metadata": {
        "id": "ZcKEgqUTKJ6a",
        "outputId": "393656c9-dfb2-4293-afaa-f19fc198c90b",
        "colab": {
          "base_uri": "https://localhost:8080/",
          "height": 241
        }
      },
      "source": [
        "clima_nominal = pd.read_excel(\"clima.xlsx\", sheet_name=0) \n",
        "print(\"\\nDimensões: {0}\".format(clima_nominal.shape))\n",
        "print(\"\\nCampos: {0}\".format(clima_nominal.keys()))\n",
        "print(clima_nominal.describe(), sep='\\n')\n",
        "\n",
        "X_dict = clima_nominal.iloc[:,0:4].T.to_dict().values()\n",
        "vect = DictVectorizer(sparse=False)\n",
        "X_data = vect.fit_transform(X_dict)\n",
        "\n",
        "le = LabelEncoder()\n",
        "y_data = le.fit_transform(clima_nominal.iloc[:,4])\n",
        "\n",
        "# Exibe o dado convertido em dicionario.\n",
        "print(\"Atributos:\", X_dict)\n",
        "\n",
        "# Exibe a estrutura do dado convertido em binário.\n",
        "print(\"Shape do dado de treinamento: {0}\".format(X_data.shape))\n",
        "\n",
        "print(\"Labels:\", y_data)\n",
        "\n"
      ],
      "execution_count": null,
      "outputs": [
        {
          "output_type": "stream",
          "text": [
            "\n",
            "Dimensões: (14, 5)\n",
            "\n",
            "Campos: Index(['Aparência', 'Temperatura', 'Umidade', 'Vento', 'Jogar'], dtype='object')\n",
            "       Aparência Temperatura Umidade  Vento Jogar\n",
            "count         14          14      14     14    14\n",
            "unique         3           3       2      2     2\n",
            "top      Chuvoso    Moderado  Normal  Fraco   Sim\n",
            "freq           5           6       7      8     9\n",
            "Atributos: dict_values([{'Aparência': 'Ensolarado', 'Temperatura': 'Quente', 'Umidade': 'Alta', 'Vento': 'Fraco'}, {'Aparência': 'Ensolarado', 'Temperatura': 'Quente', 'Umidade': 'Alta', 'Vento': 'Forte'}, {'Aparência': 'Nublado', 'Temperatura': 'Quente', 'Umidade': 'Alta', 'Vento': 'Fraco'}, {'Aparência': 'Chuvoso', 'Temperatura': 'Moderado', 'Umidade': 'Alta', 'Vento': 'Fraco'}, {'Aparência': 'Chuvoso', 'Temperatura': 'Frio', 'Umidade': 'Normal', 'Vento': 'Fraco'}, {'Aparência': 'Chuvoso', 'Temperatura': 'Frio', 'Umidade': 'Normal', 'Vento': 'Forte'}, {'Aparência': 'Nublado', 'Temperatura': 'Frio', 'Umidade': 'Normal', 'Vento': 'Forte'}, {'Aparência': 'Ensolarado', 'Temperatura': 'Moderado', 'Umidade': 'Alta', 'Vento': 'Fraco'}, {'Aparência': 'Ensolarado', 'Temperatura': 'Frio', 'Umidade': 'Normal', 'Vento': 'Fraco'}, {'Aparência': 'Chuvoso', 'Temperatura': 'Moderado', 'Umidade': 'Normal', 'Vento': 'Fraco'}, {'Aparência': 'Ensolarado', 'Temperatura': 'Moderado', 'Umidade': 'Normal', 'Vento': 'Forte'}, {'Aparência': 'Nublado', 'Temperatura': 'Moderado', 'Umidade': 'Alta', 'Vento': 'Forte'}, {'Aparência': 'Nublado', 'Temperatura': 'Quente', 'Umidade': 'Normal', 'Vento': 'Fraco'}, {'Aparência': 'Chuvoso', 'Temperatura': 'Moderado', 'Umidade': 'Alta', 'Vento': 'Forte'}])\n",
            "Shape do dado de treinamento: (14, 10)\n",
            "Labels: [0 0 1 1 1 0 1 0 1 1 1 1 1 0]\n"
          ],
          "name": "stdout"
        }
      ]
    },
    {
      "cell_type": "code",
      "metadata": {
        "id": "Eh0BvY0uLCTE",
        "outputId": "d382d386-11fe-40ec-c5c0-5d874e23b60f",
        "colab": {
          "base_uri": "https://localhost:8080/",
          "height": 255
        }
      },
      "source": [
        "# Divide a base de dados em um conjunto de treinamento e outro de teste.\n",
        "X_train, X_test, y_train, y_test = train_test_split(\n",
        "                                                    X_data,\n",
        "                                                    y_data,\n",
        "                                                    random_state=0)\n",
        "\n",
        "print(\"Dados de treinamento:\\n{}\".format(X_train))\n",
        "print(\"\\nClasses de treinamento:\\n{}\".format(y_train))"
      ],
      "execution_count": null,
      "outputs": [
        {
          "output_type": "stream",
          "text": [
            "Dados de treinamento:\n",
            "[[0. 0. 1. 0. 0. 1. 1. 0. 0. 1.]\n",
            " [1. 0. 0. 0. 1. 0. 1. 0. 1. 0.]\n",
            " [1. 0. 0. 0. 1. 0. 0. 1. 0. 1.]\n",
            " [0. 1. 0. 0. 0. 1. 1. 0. 1. 0.]\n",
            " [0. 1. 0. 0. 1. 0. 1. 0. 0. 1.]\n",
            " [0. 1. 0. 0. 1. 0. 0. 1. 1. 0.]\n",
            " [1. 0. 0. 0. 1. 0. 1. 0. 0. 1.]\n",
            " [0. 1. 0. 0. 0. 1. 1. 0. 0. 1.]\n",
            " [1. 0. 0. 1. 0. 0. 0. 1. 1. 0.]\n",
            " [0. 0. 1. 0. 0. 1. 0. 1. 0. 1.]]\n",
            "\n",
            "Classes de treinamento:\n",
            "[1 0 1 0 0 1 1 0 0 1]\n"
          ],
          "name": "stdout"
        }
      ]
    },
    {
      "cell_type": "markdown",
      "metadata": {
        "id": "liYWihBnxt6L"
      },
      "source": [
        "### Indução do Modelo Gaussian Naïve Bayes\n",
        "\n",
        "O Gaussian Naïve Bayes é o algoritmo capaz de induzir um modelo a partir de dados numéricos.\n",
        "\n",
        "Este modelo assume uma distribuição normal nos dados de treinamento.\n",
        "\n",
        "Os três passos para indução de um modelo são:\n",
        "\n",
        "1.   Instanciar o modelo: ```GaussianNB()```\n",
        "2.   Treinar o modelo: ```fit()```\n",
        "3.   Testar o modelo: ```predict()```\n",
        "\n"
      ]
    },
    {
      "cell_type": "code",
      "metadata": {
        "id": "mUiiCok3xulx",
        "outputId": "edd59be2-ebce-48f4-80a6-2e23287cb869",
        "colab": {
          "base_uri": "https://localhost:8080/",
          "height": 632
        }
      },
      "source": [
        "from sklearn.naive_bayes import GaussianNB\n",
        "nbClima = GaussianNB()\n",
        "nbClima = nbClima.fit(X_train, y_train)\n",
        "\n",
        "print(\"------------------Estatísticas de treinamento------------------\")\n",
        "print(\"Acurácia:\", nbClima.score(X_train, y_train))\n",
        "\n",
        "y_pred = nbClima.predict(X_train)\n",
        "print(\"Acurácia de previsão:\", accuracy_score(y_train, y_pred))\n",
        "print(classification_report(y_train, \n",
        "                            y_pred, \n",
        "                            target_names=[\"Não\", \"Sim\"]))\n",
        "\n",
        "cnf_matrix = confusion_matrix(y_train, y_pred)\n",
        "cnf_table = pd.DataFrame(data=cnf_matrix,\n",
        "                         index=[\"Jogar=Não\", \"Jogar=Sim\"],\n",
        "                         columns=[\"Jogar(prev)=Não\",\n",
        "                                  \"Prev. Jogar(prev)=Sim\"])\n",
        "print(cnf_table)\n",
        "\n",
        "print(\"\\n\\n------------------Estatísticas de teste------------------\")\n",
        "y_pred_test = nbClima.predict(X_test)\n",
        "print(\"Acurácia de previsão:\", accuracy_score(y_test, y_pred_test))\n",
        "print(classification_report(y_test, \n",
        "                            y_pred_test, \n",
        "                            target_names=[\"Não\", \"Sim\"]))\n",
        "\n",
        "cnf_matrix_test = confusion_matrix(y_test, y_pred_test)\n",
        "cnf_table_test = pd.DataFrame(data=cnf_matrix_test,\n",
        "                              index=[\"Jogar=Não\", \"Jogar=Sim\"],\n",
        "                              columns=[\"Jogar(prev)=Não\",\n",
        "                                       \"Prev. Jogar(prev)=Sim\"])\n",
        "print(cnf_table_test, '\\n\\n')"
      ],
      "execution_count": null,
      "outputs": [
        {
          "output_type": "stream",
          "text": [
            "------------------Estatísticas de treinamento------------------\n",
            "Acurácia: 0.9\n",
            "Acurácia de previsão: 0.9\n",
            "              precision    recall  f1-score   support\n",
            "\n",
            "         Não       0.83      1.00      0.91         5\n",
            "         Sim       1.00      0.80      0.89         5\n",
            "\n",
            "    accuracy                           0.90        10\n",
            "   macro avg       0.92      0.90      0.90        10\n",
            "weighted avg       0.92      0.90      0.90        10\n",
            "\n",
            "           Jogar(prev)=Não  Prev. Jogar(prev)=Sim\n",
            "Jogar=Não                5                      0\n",
            "Jogar=Sim                1                      4\n",
            "\n",
            "\n",
            "------------------Estatísticas de teste------------------\n",
            "Acurácia de previsão: 0.5\n",
            "              precision    recall  f1-score   support\n",
            "\n",
            "         Não       0.00      0.00      0.00         0\n",
            "         Sim       1.00      0.50      0.67         4\n",
            "\n",
            "    accuracy                           0.50         4\n",
            "   macro avg       0.50      0.25      0.33         4\n",
            "weighted avg       1.00      0.50      0.67         4\n",
            "\n",
            "           Jogar(prev)=Não  Prev. Jogar(prev)=Sim\n",
            "Jogar=Não                0                      0\n",
            "Jogar=Sim                2                      2 \n",
            "\n",
            "\n"
          ],
          "name": "stdout"
        },
        {
          "output_type": "stream",
          "text": [
            "/usr/local/lib/python3.6/dist-packages/sklearn/metrics/classification.py:1439: UndefinedMetricWarning: Recall and F-score are ill-defined and being set to 0.0 in labels with no true samples.\n",
            "  'recall', 'true', average, warn_for)\n"
          ],
          "name": "stderr"
        }
      ]
    },
    {
      "cell_type": "markdown",
      "metadata": {
        "id": "N1inhdgSZDyn"
      },
      "source": [
        "### Indução do Modelo Multinomial Naïve Bayes\n",
        "\n",
        "O Multinomial Naïve Bayes é o algoritmo capaz de induzir um modelo a partir de dados discretos.\n",
        "\n",
        "Leva em consideração a frequência da ocorrência de uma palavra em um documento.\n",
        "\n",
        "Os três passos para indução de um modelo são:\n",
        "\n",
        "1.   Instanciar o modelo: ```MultinomialNB()```\n",
        "2.   Treinar o modelo: ```fit()```\n",
        "3.   Testar o modelo: ```predict()```\n",
        "\n"
      ]
    },
    {
      "cell_type": "code",
      "metadata": {
        "id": "XJO54IMFZHab",
        "outputId": "27960089-f8ac-4a6d-8c8e-5d72d6f7f2fc",
        "colab": {
          "base_uri": "https://localhost:8080/",
          "height": 632
        }
      },
      "source": [
        "from sklearn.naive_bayes import MultinomialNB\n",
        "nbClima = MultinomialNB()\n",
        "nbClima = nbClima.fit(X_train, y_train)\n",
        "\n",
        "print(\"------------------Estatísticas de treinamento------------------\")\n",
        "print(\"Acurácia:\", nbClima.score(X_train, y_train))\n",
        "\n",
        "y_pred = nbClima.predict(X_train)\n",
        "print(\"Acurácia de previsão:\", accuracy_score(y_train, y_pred))\n",
        "print(classification_report(y_train, \n",
        "                            y_pred, \n",
        "                            target_names=[\"Não\", \"Sim\"]))\n",
        "\n",
        "cnf_matrix = confusion_matrix(y_train, y_pred)\n",
        "cnf_table = pd.DataFrame(data=cnf_matrix,\n",
        "                         index=[\"Jogar=Não\", \"Jogar=Sim\"],\n",
        "                         columns=[\"Jogar(prev)=Não\",\n",
        "                                  \"Prev. Jogar(prev)=Sim\"])\n",
        "print(cnf_table)\n",
        "\n",
        "print(\"\\n\\n------------------Estatísticas de teste------------------\")\n",
        "y_pred_test = nbClima.predict(X_test)\n",
        "print(\"Acurácia de previsão:\", accuracy_score(y_test, y_pred_test))\n",
        "print(classification_report(y_test, \n",
        "                            y_pred_test, \n",
        "                            target_names=[\"Não\", \"Sim\"]))\n",
        "\n",
        "cnf_matrix_test = confusion_matrix(y_test, y_pred_test)\n",
        "cnf_table_test = pd.DataFrame(data=cnf_matrix_test,\n",
        "                              index=[\"Jogar=Não\", \"Jogar=Sim\"],\n",
        "                              columns=[\"Jogar(prev)=Não\",\n",
        "                                       \"Prev. Jogar(prev)=Sim\"])\n",
        "print(cnf_table_test, '\\n\\n')"
      ],
      "execution_count": null,
      "outputs": [
        {
          "output_type": "stream",
          "text": [
            "------------------Estatísticas de treinamento------------------\n",
            "Acurácia: 0.9\n",
            "Acurácia de previsão: 0.9\n",
            "              precision    recall  f1-score   support\n",
            "\n",
            "         Não       0.83      1.00      0.91         5\n",
            "         Sim       1.00      0.80      0.89         5\n",
            "\n",
            "    accuracy                           0.90        10\n",
            "   macro avg       0.92      0.90      0.90        10\n",
            "weighted avg       0.92      0.90      0.90        10\n",
            "\n",
            "           Jogar(prev)=Não  Prev. Jogar(prev)=Sim\n",
            "Jogar=Não                5                      0\n",
            "Jogar=Sim                1                      4\n",
            "\n",
            "\n",
            "------------------Estatísticas de teste------------------\n",
            "Acurácia de previsão: 0.75\n",
            "              precision    recall  f1-score   support\n",
            "\n",
            "         Não       0.00      0.00      0.00         0\n",
            "         Sim       1.00      0.75      0.86         4\n",
            "\n",
            "    accuracy                           0.75         4\n",
            "   macro avg       0.50      0.38      0.43         4\n",
            "weighted avg       1.00      0.75      0.86         4\n",
            "\n",
            "           Jogar(prev)=Não  Prev. Jogar(prev)=Sim\n",
            "Jogar=Não                0                      0\n",
            "Jogar=Sim                1                      3 \n",
            "\n",
            "\n"
          ],
          "name": "stdout"
        },
        {
          "output_type": "stream",
          "text": [
            "/usr/local/lib/python3.6/dist-packages/sklearn/metrics/classification.py:1439: UndefinedMetricWarning: Recall and F-score are ill-defined and being set to 0.0 in labels with no true samples.\n",
            "  'recall', 'true', average, warn_for)\n"
          ],
          "name": "stderr"
        }
      ]
    },
    {
      "cell_type": "markdown",
      "metadata": {
        "id": "FFIAq-6SS0RA"
      },
      "source": [
        "### Indução do Modelo Bernoulli Naïve Bayes\n",
        "\n",
        "O Bernoulli Naïve Bayes é o algoritmo capaz de induzir um modelo a partir de dados numéricos.\n",
        "\n",
        "Os três passos para indução de um modelo são:\n",
        "\n",
        "1.   Instanciar o modelo: ```BernoulliNB()```\n",
        "2.   Treinar o modelo: ```fit()```\n",
        "3.   Testar o modelo: ```predict()```\n",
        "\n"
      ]
    },
    {
      "cell_type": "code",
      "metadata": {
        "id": "PJziFJi4Sk5a",
        "outputId": "cb47c608-d363-4ae8-f051-696ec7dadd88",
        "colab": {
          "base_uri": "https://localhost:8080/",
          "height": 632
        }
      },
      "source": [
        "from sklearn.naive_bayes import BernoulliNB\n",
        "nbClima = BernoulliNB()\n",
        "nbClima = nbClima.fit(X_train, y_train)\n",
        "\n",
        "print(\"------------------Estatísticas de treinamento------------------\")\n",
        "print(\"Acurácia:\", nbClima.score(X_train, y_train))\n",
        "\n",
        "y_pred = nbClima.predict(X_train)\n",
        "print(\"Acurácia de previsão:\", accuracy_score(y_train, y_pred))\n",
        "print(classification_report(y_train, \n",
        "                            y_pred, \n",
        "                            target_names=[\"Não\", \"Sim\"]))\n",
        "\n",
        "cnf_matrix = confusion_matrix(y_train, y_pred)\n",
        "cnf_table = pd.DataFrame(data=cnf_matrix,\n",
        "                         index=[\"Jogar=Não\", \"Jogar=Sim\"],\n",
        "                         columns=[\"Jogar(prev)=Não\",\n",
        "                                  \"Prev. Jogar(prev)=Sim\"])\n",
        "print(cnf_table)\n",
        "\n",
        "print(\"\\n\\n------------------Estatísticas de teste------------------\")\n",
        "y_pred_test = nbClima.predict(X_test)\n",
        "print(\"Acurácia de previsão:\", accuracy_score(y_test, y_pred_test))\n",
        "print(classification_report(y_test, \n",
        "                            y_pred_test, \n",
        "                            target_names=[\"Não\", \"Sim\"]))\n",
        "\n",
        "cnf_matrix_test = confusion_matrix(y_test, y_pred_test)\n",
        "cnf_table_test = pd.DataFrame(data=cnf_matrix_test,\n",
        "                              index=[\"Jogar=Não\", \"Jogar=Sim\"],\n",
        "                              columns=[\"Jogar(prev)=Não\",\n",
        "                                       \"Prev. Jogar(prev)=Sim\"])\n",
        "print(cnf_table_test, '\\n\\n')"
      ],
      "execution_count": null,
      "outputs": [
        {
          "output_type": "stream",
          "text": [
            "------------------Estatísticas de treinamento------------------\n",
            "Acurácia: 0.9\n",
            "Acurácia de previsão: 0.9\n",
            "              precision    recall  f1-score   support\n",
            "\n",
            "         Não       0.83      1.00      0.91         5\n",
            "         Sim       1.00      0.80      0.89         5\n",
            "\n",
            "    accuracy                           0.90        10\n",
            "   macro avg       0.92      0.90      0.90        10\n",
            "weighted avg       0.92      0.90      0.90        10\n",
            "\n",
            "           Jogar(prev)=Não  Prev. Jogar(prev)=Sim\n",
            "Jogar=Não                5                      0\n",
            "Jogar=Sim                1                      4\n",
            "\n",
            "\n",
            "------------------Estatísticas de teste------------------\n",
            "Acurácia de previsão: 0.75\n",
            "              precision    recall  f1-score   support\n",
            "\n",
            "         Não       0.00      0.00      0.00         0\n",
            "         Sim       1.00      0.75      0.86         4\n",
            "\n",
            "    accuracy                           0.75         4\n",
            "   macro avg       0.50      0.38      0.43         4\n",
            "weighted avg       1.00      0.75      0.86         4\n",
            "\n",
            "           Jogar(prev)=Não  Prev. Jogar(prev)=Sim\n",
            "Jogar=Não                0                      0\n",
            "Jogar=Sim                1                      3 \n",
            "\n",
            "\n"
          ],
          "name": "stdout"
        },
        {
          "output_type": "stream",
          "text": [
            "/usr/local/lib/python3.6/dist-packages/sklearn/metrics/classification.py:1439: UndefinedMetricWarning: Recall and F-score are ill-defined and being set to 0.0 in labels with no true samples.\n",
            "  'recall', 'true', average, warn_for)\n"
          ],
          "name": "stderr"
        }
      ]
    },
    {
      "cell_type": "code",
      "metadata": {
        "id": "qHzaetNOSIVW"
      },
      "source": [
        ""
      ],
      "execution_count": null,
      "outputs": []
    }
  ]
}